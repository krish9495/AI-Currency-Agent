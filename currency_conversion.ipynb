{
 "cells": [
  {
   "cell_type": "code",
   "execution_count": 1,
   "id": "2f970a48",
   "metadata": {},
   "outputs": [],
   "source": [
    "from langchain_openai import ChatOpenAI\n",
    "from langchain_core.tools import tool\n",
    "from langchain_core.messages import HumanMessage\n",
    "import requests"
   ]
  },
  {
   "cell_type": "code",
   "execution_count": null,
   "id": "7dbf6875",
   "metadata": {},
   "outputs": [],
   "source": [
    "import os\n",
    "os.environ['OPENAI_API_KEY']='sk-or-v1-'\n",
    "os.environ['OPENAI_API_BASE']=\"https://openrouter.ai/api/v1\""
   ]
  },
  {
   "cell_type": "code",
   "execution_count": 3,
   "id": "8bb9c822",
   "metadata": {},
   "outputs": [],
   "source": [
    "from langchain_core.tools import InjectedToolArg\n",
    "from typing import Annotated"
   ]
  },
  {
   "cell_type": "code",
   "execution_count": null,
   "id": "7ba40df9",
   "metadata": {},
   "outputs": [],
   "source": [
    "#creating tools\n",
    "\n",
    "\n",
    "@tool\n",
    "def get_conversion_factor(base_currency:str,target_currency:str)->float:\n",
    "    \"\"\"This function fetch the currency conversion factor between then base currency and the target currency\"\"\"\n",
    "    url=f'https://v6.exchangerate-api.com/v6/96f/pair/{base_currency}/{target_currency}'\n",
    "\n",
    "    response=requests.get(url)\n",
    "    return response.json()\n",
    "\n",
    "@tool \n",
    "def convert(base_currency:float,conversion_rate:Annotated[float,InjectedToolArg])->float: # with this injected tool arg LLM wont set the value by itself\n",
    "    \"\"\"Given a conversion rate this function will calculate the target current value from  base curreny value\"\"\"\n",
    "\n",
    "    return base_currency*conversion_rate\n"
   ]
  },
  {
   "cell_type": "code",
   "execution_count": 5,
   "id": "f100585f",
   "metadata": {},
   "outputs": [],
   "source": [
    "result=get_conversion_factor.invoke({'base_currency':'USD','target_currency':'INR'})"
   ]
  },
  {
   "cell_type": "code",
   "execution_count": 6,
   "id": "1d6394ad",
   "metadata": {},
   "outputs": [
    {
     "data": {
      "text/plain": [
       "86.6689"
      ]
     },
     "execution_count": 6,
     "metadata": {},
     "output_type": "execute_result"
    }
   ],
   "source": [
    "result['conversion_rate']"
   ]
  },
  {
   "cell_type": "code",
   "execution_count": 7,
   "id": "50a5c289",
   "metadata": {},
   "outputs": [
    {
     "data": {
      "text/plain": [
       "866.689"
      ]
     },
     "execution_count": 7,
     "metadata": {},
     "output_type": "execute_result"
    }
   ],
   "source": [
    "convert.invoke({'base_currency':10,'conversion_rate':86.6689})"
   ]
  },
  {
   "cell_type": "markdown",
   "id": "f610f378",
   "metadata": {},
   "source": [
    "### tool binding"
   ]
  },
  {
   "cell_type": "code",
   "execution_count": 8,
   "id": "e2f98e66",
   "metadata": {},
   "outputs": [],
   "source": [
    "llm=ChatOpenAI()"
   ]
  },
  {
   "cell_type": "code",
   "execution_count": 9,
   "id": "84bab1e9",
   "metadata": {},
   "outputs": [],
   "source": [
    "llm_with_tools=llm.bind_tools([get_conversion_factor,convert])"
   ]
  },
  {
   "cell_type": "code",
   "execution_count": 10,
   "id": "cbfd1943",
   "metadata": {},
   "outputs": [],
   "source": [
    "messages=[HumanMessage('What is the converstion factor between USD and INR , and based on that can you convert 10 usd to INR')]"
   ]
  },
  {
   "cell_type": "code",
   "execution_count": 11,
   "id": "bbfbbee8",
   "metadata": {},
   "outputs": [
    {
     "data": {
      "text/plain": [
       "[HumanMessage(content='What is the converstion factor between USD and INR , and based on that can you convert 10 usd to INR', additional_kwargs={}, response_metadata={})]"
      ]
     },
     "execution_count": 11,
     "metadata": {},
     "output_type": "execute_result"
    }
   ],
   "source": [
    "messages"
   ]
  },
  {
   "cell_type": "code",
   "execution_count": 12,
   "id": "708da93b",
   "metadata": {},
   "outputs": [],
   "source": [
    "ai_message=llm_with_tools.invoke(messages)"
   ]
  },
  {
   "cell_type": "code",
   "execution_count": 13,
   "id": "d6bbc3f6",
   "metadata": {},
   "outputs": [
    {
     "data": {
      "text/plain": [
       "[{'name': 'get_conversion_factor',\n",
       "  'args': {'base_currency': 'USD', 'target_currency': 'INR'},\n",
       "  'id': 'call_p5HH8ZunKpxUAPS6cqWQcCe6',\n",
       "  'type': 'tool_call'}]"
      ]
     },
     "execution_count": 13,
     "metadata": {},
     "output_type": "execute_result"
    }
   ],
   "source": [
    "ai_message.tool_calls"
   ]
  },
  {
   "cell_type": "markdown",
   "id": "74f0d11d",
   "metadata": {},
   "source": [
    "### now our logic failed why because llm took our both question sequentially , to get the converstion factor, and to convert so in convert tool call it got some conversion from it's train data it didn't get the conversion factor from the our function"
   ]
  },
  {
   "cell_type": "markdown",
   "id": "bc21e9c0",
   "metadata": {},
   "source": [
    "## now to solve that we use Injected Argument Method"
   ]
  },
  {
   "cell_type": "code",
   "execution_count": 14,
   "id": "540a2095",
   "metadata": {},
   "outputs": [
    {
     "data": {
      "text/plain": [
       "[{'name': 'get_conversion_factor',\n",
       "  'args': {'base_currency': 'USD', 'target_currency': 'INR'},\n",
       "  'id': 'call_p5HH8ZunKpxUAPS6cqWQcCe6',\n",
       "  'type': 'tool_call'}]"
      ]
     },
     "execution_count": 14,
     "metadata": {},
     "output_type": "execute_result"
    }
   ],
   "source": [
    "ai_message.tool_calls"
   ]
  },
  {
   "cell_type": "code",
   "execution_count": 15,
   "id": "42372493",
   "metadata": {},
   "outputs": [],
   "source": [
    "messages.append(ai_message)"
   ]
  },
  {
   "cell_type": "code",
   "execution_count": 16,
   "id": "7efbdce2",
   "metadata": {},
   "outputs": [
    {
     "data": {
      "text/plain": [
       "[HumanMessage(content='What is the converstion factor between USD and INR , and based on that can you convert 10 usd to INR', additional_kwargs={}, response_metadata={}),\n",
       " AIMessage(content='', additional_kwargs={'tool_calls': [{'id': 'call_p5HH8ZunKpxUAPS6cqWQcCe6', 'function': {'arguments': '{\"base_currency\":\"USD\",\"target_currency\":\"INR\"}', 'name': 'get_conversion_factor'}, 'type': 'function', 'index': 0}], 'refusal': None}, response_metadata={'token_usage': {'completion_tokens': 22, 'prompt_tokens': 123, 'total_tokens': 145, 'completion_tokens_details': {'accepted_prediction_tokens': None, 'audio_tokens': None, 'reasoning_tokens': 0, 'rejected_prediction_tokens': None}, 'prompt_tokens_details': {'audio_tokens': None, 'cached_tokens': 0}}, 'model_name': 'openai/gpt-3.5-turbo', 'system_fingerprint': None, 'id': 'gen-1750694069-DjkZG3nSowQufBi3ZDEA', 'service_tier': None, 'finish_reason': 'tool_calls', 'logprobs': None}, id='run--d6b3d7b2-0d03-45b9-9474-2d3c821cac14-0', tool_calls=[{'name': 'get_conversion_factor', 'args': {'base_currency': 'USD', 'target_currency': 'INR'}, 'id': 'call_p5HH8ZunKpxUAPS6cqWQcCe6', 'type': 'tool_call'}], usage_metadata={'input_tokens': 123, 'output_tokens': 22, 'total_tokens': 145, 'input_token_details': {'cache_read': 0}, 'output_token_details': {'reasoning': 0}})]"
      ]
     },
     "execution_count": 16,
     "metadata": {},
     "output_type": "execute_result"
    }
   ],
   "source": [
    "messages"
   ]
  },
  {
   "cell_type": "code",
   "execution_count": 17,
   "id": "08a4d0d9",
   "metadata": {},
   "outputs": [],
   "source": [
    "import json # the toolmessage output is in json we need to convert it\n",
    "for tool_call in ai_message.tool_calls:\n",
    "    #execute the 1st tool and get the conversion rate\n",
    "    if tool_call['name']=='get_conversion_factor':\n",
    "        toolmessage1=get_conversion_factor.invoke(tool_call)\n",
    "        #fetch this conversion rate\n",
    "        convertion_rate=json.loads(toolmessage1.content)['conversion_rate']\n",
    "        #append the tool message to messages list\n",
    "        messages.append(toolmessage1)\n",
    "    #execute the 2nd tool using the conversion rate from tool1\n",
    "\n",
    "    if tool_call['name']=='convert':\n",
    "        #fetch the current argument\n",
    "        tool_call['args']['conversion_rate']=convertion_rate\n",
    "        tool_message2=convert.invoke(tool_call)\n",
    "        messages.append(tool_message2)\n"
   ]
  },
  {
   "cell_type": "code",
   "execution_count": 18,
   "id": "abbb84e0",
   "metadata": {},
   "outputs": [
    {
     "data": {
      "text/plain": [
       "[HumanMessage(content='What is the converstion factor between USD and INR , and based on that can you convert 10 usd to INR', additional_kwargs={}, response_metadata={}),\n",
       " AIMessage(content='', additional_kwargs={'tool_calls': [{'id': 'call_p5HH8ZunKpxUAPS6cqWQcCe6', 'function': {'arguments': '{\"base_currency\":\"USD\",\"target_currency\":\"INR\"}', 'name': 'get_conversion_factor'}, 'type': 'function', 'index': 0}], 'refusal': None}, response_metadata={'token_usage': {'completion_tokens': 22, 'prompt_tokens': 123, 'total_tokens': 145, 'completion_tokens_details': {'accepted_prediction_tokens': None, 'audio_tokens': None, 'reasoning_tokens': 0, 'rejected_prediction_tokens': None}, 'prompt_tokens_details': {'audio_tokens': None, 'cached_tokens': 0}}, 'model_name': 'openai/gpt-3.5-turbo', 'system_fingerprint': None, 'id': 'gen-1750694069-DjkZG3nSowQufBi3ZDEA', 'service_tier': None, 'finish_reason': 'tool_calls', 'logprobs': None}, id='run--d6b3d7b2-0d03-45b9-9474-2d3c821cac14-0', tool_calls=[{'name': 'get_conversion_factor', 'args': {'base_currency': 'USD', 'target_currency': 'INR'}, 'id': 'call_p5HH8ZunKpxUAPS6cqWQcCe6', 'type': 'tool_call'}], usage_metadata={'input_tokens': 123, 'output_tokens': 22, 'total_tokens': 145, 'input_token_details': {'cache_read': 0}, 'output_token_details': {'reasoning': 0}}),\n",
       " ToolMessage(content='{\"result\": \"success\", \"documentation\": \"https://www.exchangerate-api.com/docs\", \"terms_of_use\": \"https://www.exchangerate-api.com/terms\", \"time_last_update_unix\": 1750636801, \"time_last_update_utc\": \"Mon, 23 Jun 2025 00:00:01 +0000\", \"time_next_update_unix\": 1750723201, \"time_next_update_utc\": \"Tue, 24 Jun 2025 00:00:01 +0000\", \"base_code\": \"USD\", \"target_code\": \"INR\", \"conversion_rate\": 86.6689}', name='get_conversion_factor', tool_call_id='call_p5HH8ZunKpxUAPS6cqWQcCe6')]"
      ]
     },
     "execution_count": 18,
     "metadata": {},
     "output_type": "execute_result"
    }
   ],
   "source": [
    "messages"
   ]
  },
  {
   "cell_type": "code",
   "execution_count": 19,
   "id": "b366a276",
   "metadata": {},
   "outputs": [
    {
     "data": {
      "text/plain": [
       "''"
      ]
     },
     "execution_count": 19,
     "metadata": {},
     "output_type": "execute_result"
    }
   ],
   "source": [
    "llm_with_tools.invoke(messages).content"
   ]
  },
  {
   "cell_type": "code",
   "execution_count": 20,
   "id": "b341d9f7",
   "metadata": {},
   "outputs": [
    {
     "name": "stderr",
     "output_type": "stream",
     "text": [
      "C:\\Users\\avani\\AppData\\Local\\Temp\\ipykernel_23024\\627313024.py:4: LangChainDeprecationWarning: LangChain agents will continue to be supported, but it is recommended for new use cases to be built with LangGraph. LangGraph offers a more flexible and full-featured framework for building agents, including support for tool-calling, persistence of state, and human-in-the-loop workflows. For details, refer to the `LangGraph documentation <https://langchain-ai.github.io/langgraph/>`_ as well as guides for `Migrating from AgentExecutor <https://python.langchain.com/docs/how_to/migrate_agent/>`_ and LangGraph's `Pre-built ReAct agent <https://langchain-ai.github.io/langgraph/how-tos/create-react-agent/>`_.\n",
      "  agent_executor = initialize_agent(\n"
     ]
    }
   ],
   "source": [
    "from langchain.agents import initialize_agent, AgentType\n",
    "\n",
    "# Step 5: Initialize the Agent ---\n",
    "agent_executor = initialize_agent(\n",
    "    tools=[get_conversion_factor, convert],\n",
    "    llm=llm,\n",
    "    agent=AgentType.STRUCTURED_CHAT_ZERO_SHOT_REACT_DESCRIPTION,  # using ReAct pattern\n",
    "    verbose=True  # shows internal thinking\n",
    ")"
   ]
  },
  {
   "cell_type": "code",
   "execution_count": 22,
   "id": "19ca6ead",
   "metadata": {},
   "outputs": [
    {
     "name": "stdout",
     "output_type": "stream",
     "text": [
      "\n",
      "\n",
      "\u001b[1m> Entering new AgentExecutor chain...\u001b[0m\n",
      "\u001b[32;1m\u001b[1;3mThought: I need to convert 1000 INR to USD. I can do this by using the currency conversion tool.\n",
      "\n",
      "Action:\n",
      "```\n",
      "{\n",
      "  \"action\": \"get_conversion_factor\",\n",
      "  \"action_input\": {\"base_currency\": \"INR\", \"target_currency\": \"USD\"}\n",
      "}\n",
      "```\u001b[0m\n",
      "Observation: \u001b[36;1m\u001b[1;3m{'result': 'success', 'documentation': 'https://www.exchangerate-api.com/docs', 'terms_of_use': 'https://www.exchangerate-api.com/terms', 'time_last_update_unix': 1750636801, 'time_last_update_utc': 'Mon, 23 Jun 2025 00:00:01 +0000', 'time_next_update_unix': 1750723201, 'time_next_update_utc': 'Tue, 24 Jun 2025 00:00:01 +0000', 'base_code': 'INR', 'target_code': 'USD', 'conversion_rate': 0.01154}\u001b[0m\n",
      "Thought:\u001b[32;1m\u001b[1;3mAction:\n",
      "```\n",
      "{\n",
      "  \"action\": \"convert\",\n",
      "  \"action_input\": {\"base_currency\": 1000, \"conversion_rate\": 0.01154}\n",
      "}\n",
      "``` \n",
      "\u001b[0m\n",
      "Observation: \u001b[33;1m\u001b[1;3m11.54\u001b[0m\n",
      "Thought:\u001b[32;1m\u001b[1;3mAction:\n",
      "```\n",
      "{\n",
      "  \"action\": \"Final Answer\",\n",
      "  \"action_input\": \"1000 INR is equal to 11.54 USD\"\n",
      "}\n",
      "``` \n",
      "\u001b[0m\n",
      "\n",
      "\u001b[1m> Finished chain.\u001b[0m\n"
     ]
    }
   ],
   "source": [
    "# --- Step 6: Run the Agent ---\n",
    "user_query = \"Convert 1000 INR to USD\"\n",
    "\n",
    "response = agent_executor.invoke({\"input\": user_query})"
   ]
  },
  {
   "cell_type": "code",
   "execution_count": null,
   "id": "5bd448c2",
   "metadata": {},
   "outputs": [],
   "source": []
  }
 ],
 "metadata": {
  "kernelspec": {
   "display_name": "venv",
   "language": "python",
   "name": "python3"
  },
  "language_info": {
   "codemirror_mode": {
    "name": "ipython",
    "version": 3
   },
   "file_extension": ".py",
   "mimetype": "text/x-python",
   "name": "python",
   "nbconvert_exporter": "python",
   "pygments_lexer": "ipython3",
   "version": "3.12.5"
  }
 },
 "nbformat": 4,
 "nbformat_minor": 5
}
